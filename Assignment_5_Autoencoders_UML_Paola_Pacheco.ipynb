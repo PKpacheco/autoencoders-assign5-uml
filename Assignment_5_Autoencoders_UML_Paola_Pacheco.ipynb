{
  "nbformat": 4,
  "nbformat_minor": 0,
  "metadata": {
    "colab": {
      "provenance": [],
      "mount_file_id": "1uTIR35yMru7UawvIegNzfjBiFRNcUiL2",
      "authorship_tag": "ABX9TyNI1G6AiQIZFywiGYeGwlt4",
      "include_colab_link": true
    },
    "kernelspec": {
      "name": "python3",
      "display_name": "Python 3"
    },
    "language_info": {
      "name": "python"
    }
  },
  "cells": [
    {
      "cell_type": "markdown",
      "metadata": {
        "id": "view-in-github",
        "colab_type": "text"
      },
      "source": [
        "<a href=\"https://colab.research.google.com/github/PKpacheco/autoencoders-assign5-uml/blob/main/Assignment_5_Autoencoders_UML_Paola_Pacheco.ipynb\" target=\"_parent\"><img src=\"https://colab.research.google.com/assets/colab-badge.svg\" alt=\"Open In Colab\"/></a>"
      ]
    },
    {
      "cell_type": "markdown",
      "source": [
        "# Assignment 5 - Unsupervised Machine Learning\n",
        "\n",
        "Paola Katherine Pacheco - 0374446\n"
      ],
      "metadata": {
        "id": "UUVov-0nxy0D"
      }
    },
    {
      "cell_type": "code",
      "source": [
        "import matplotlib.pyplot as plt\n",
        "import numpy as np\n",
        "import pandas as pd\n",
        "\n",
        "from tensorflow.keras.layers import Input, Dense\n",
        "from tensorflow.keras.models import Model\n",
        "from tensorflow.keras.optimizers import Adam\n"
      ],
      "metadata": {
        "id": "JIFw4JN_xzq7"
      },
      "execution_count": 1,
      "outputs": []
    },
    {
      "cell_type": "markdown",
      "source": [
        "## 1.Data\n"
      ],
      "metadata": {
        "id": "RGxwKo51uHEZ"
      }
    },
    {
      "cell_type": "markdown",
      "source": [
        "### a)Each row of csvImages 10k x 784.csv contains the gray scale values of a 28 x 28 image. Load this data into a pandas dataframe. Convert the dataframe to a numpy array using pandas.values. Print the shape of the data.\n"
      ],
      "metadata": {
        "id": "pwOQnvGFuJzE"
      }
    },
    {
      "cell_type": "code",
      "source": [
        "# import files\n",
        "train_label_url = 'https://raw.githubusercontent.com/PKpacheco/autoencoders-assign5-uml/main/csvTrainLabel%2060k%20x%201.csv'\n",
        "test_label_url = 'https://raw.githubusercontent.com/PKpacheco/autoencoders-assign5-uml/main/csvTestLabel%2010k%20x%201.csv'\n",
        "\n",
        "# drive files\n",
        "train_images_url = '/content/drive/MyDrive/Colab Notebooks/unsuperv ML/autoencoders_assign5/csvTrainImages 60k x 784.csv'\n",
        "test_images_url = '/content/drive/MyDrive/Colab Notebooks/unsuperv ML/autoencoders_assign5/csvTestImages 10k x 784.csv'"
      ],
      "metadata": {
        "id": "JACwMKjIw3f7"
      },
      "execution_count": 2,
      "outputs": []
    },
    {
      "cell_type": "code",
      "source": [
        "# Load train and test labels\n",
        "Y_train = pd.read_csv(train_label_url).values\n",
        "Y_test = pd.read_csv(test_label_url).values\n",
        "\n",
        "# Load train and test images\n",
        "X_train = pd.read_csv(train_images_url).values\n",
        "X_test = pd.read_csv(test_images_url).values"
      ],
      "metadata": {
        "id": "_XKNkajVzaUl"
      },
      "execution_count": 3,
      "outputs": []
    },
    {
      "cell_type": "code",
      "source": [
        "# Print the shapes\n",
        "print(\"Shape of train labels:\", Y_train.shape)\n",
        "print(\"Shape of test labels:\", Y_test.shape)\n",
        "print(\"Shape of train images:\", X_train.shape)\n",
        "print(\"Shape of test images:\", X_test.shape)"
      ],
      "metadata": {
        "colab": {
          "base_uri": "https://localhost:8080/"
        },
        "id": "G0bJaQcmzu_X",
        "outputId": "4922e6e2-b1c8-441a-f565-a034d9de524f"
      },
      "execution_count": 4,
      "outputs": [
        {
          "output_type": "stream",
          "name": "stdout",
          "text": [
            "Shape of train labels: (59999, 1)\n",
            "Shape of test labels: (9999, 1)\n",
            "Shape of train images: (59999, 784)\n",
            "Shape of test images: (9999, 784)\n"
          ]
        }
      ]
    },
    {
      "cell_type": "markdown",
      "source": [
        "These shapes indicate that:\n",
        "* (59999, 1) - 59,999 training images and 1 column\n",
        "* (9999, 784) - 9,999 images and 784 columns\n"
      ],
      "metadata": {
        "id": "rjqDFnmu1148"
      }
    },
    {
      "cell_type": "markdown",
      "source": [
        "###b)Normalize by dividing each value by 255. In order to display the images, reshape the array so each image is 28 x 28 using numpy.ndarray.reshape. Use matplotlib.plot.imshow and matplotlib.plot.subplot to give a plot of the first five images using the 'gray' colour map. In order to put the data back in the original shape for input to the neural network, reshape each image to be 784 (one-dimensional).\n"
      ],
      "metadata": {
        "id": "RB90Y7kFuMTT"
      }
    },
    {
      "cell_type": "code",
      "source": [
        "# Normalize\n",
        "X_train_normalized = X_train / 255.0\n",
        "X_test_normalized = X_test / 255.0\n"
      ],
      "metadata": {
        "id": "9bZz5XSWzmbT"
      },
      "execution_count": 9,
      "outputs": []
    },
    {
      "cell_type": "code",
      "source": [
        "# one hot encoding\n",
        "# from keras import utils\n",
        "# Y_train = utils.to_categorical(Y_train)\n",
        "# Y_test = utils.to_categorical(Y_test)"
      ],
      "metadata": {
        "id": "1o-2dv5tPtDA"
      },
      "execution_count": 67,
      "outputs": []
    },
    {
      "cell_type": "code",
      "source": [
        "# Reshape each image to be 28 x 28\n",
        "X_train_reshaped = X_train_normalized.reshape(-1, 28, 28)"
      ],
      "metadata": {
        "id": "zFbMjDHB0RxP"
      },
      "execution_count": 10,
      "outputs": []
    },
    {
      "cell_type": "code",
      "source": [
        "# Plot\n",
        "plt.figure(figsize=(10, 5))\n",
        "for i in range(5):\n",
        "    plt.subplot(1, 5, i+1)\n",
        "    plt.imshow(X_train_reshaped[i], cmap='gray')\n",
        "    plt.axis('off')\n",
        "plt.show()"
      ],
      "metadata": {
        "colab": {
          "base_uri": "https://localhost:8080/",
          "height": 170
        },
        "id": "oX6GrAFE0Vre",
        "outputId": "a04e3ec8-d451-4acb-cf6c-8aa9df44da96"
      },
      "execution_count": 11,
      "outputs": [
        {
          "output_type": "display_data",
          "data": {
            "text/plain": [
              "<Figure size 1000x500 with 5 Axes>"
            ],
            "image/png": "[encoded data removed]"
          },
          "metadata": {}
        }
      ]
    },
    {
      "cell_type": "code",
      "source": [
        "X_train_normalized"
      ],
      "metadata": {
        "colab": {
          "base_uri": "https://localhost:8080/"
        },
        "id": "Nea__3faQCXy",
        "outputId": "ad129ff3-d5bb-48ef-c6d5-73f317838f20"
      },
      "execution_count": 12,
      "outputs": [
        {
          "output_type": "execute_result",
          "data": {
            "text/plain": [
              "array([[0., 0., 0., ..., 0., 0., 0.],\n",
              "       [0., 0., 0., ..., 0., 0., 0.],\n",
              "       [0., 0., 0., ..., 0., 0., 0.],\n",
              "       ...,\n",
              "       [0., 0., 0., ..., 0., 0., 0.],\n",
              "       [0., 0., 0., ..., 0., 0., 0.],\n",
              "       [0., 0., 0., ..., 0., 0., 0.]])"
            ]
          },
          "metadata": {},
          "execution_count": 12
        }
      ]
    },
    {
      "cell_type": "code",
      "source": [
        "# Reshape to be 784 one dimensional\n",
        "X_train_flattened = X_train_normalized.reshape(-1, 784)"
      ],
      "metadata": {
        "id": "L9tj3BMR0Zkx"
      },
      "execution_count": 13,
      "outputs": []
    },
    {
      "cell_type": "code",
      "source": [
        "# double check shape\n",
        "X_train_flattened.shape"
      ],
      "metadata": {
        "colab": {
          "base_uri": "https://localhost:8080/"
        },
        "id": "tJbsIbc10ei3",
        "outputId": "160814c5-52f7-44e8-9b65-cb84586e09e6"
      },
      "execution_count": 14,
      "outputs": [
        {
          "output_type": "execute_result",
          "data": {
            "text/plain": [
              "(59999, 784)"
            ]
          },
          "metadata": {},
          "execution_count": 14
        }
      ]
    },
    {
      "cell_type": "markdown",
      "source": [
        "## 2.Modeling\n"
      ],
      "metadata": {
        "id": "COhKNVy6uSRw"
      }
    },
    {
      "cell_type": "markdown",
      "source": [
        "###a)Use keras.layers to create an input layer that matches the dimensions of your data.\n",
        "\n"
      ],
      "metadata": {
        "id": "iyyU7PNXuXus"
      }
    },
    {
      "cell_type": "code",
      "source": [
        "# input layer\n",
        "input_layer = Input(shape=(784,))"
      ],
      "metadata": {
        "id": "ZURBUdFg0jz-"
      },
      "execution_count": 15,
      "outputs": []
    },
    {
      "cell_type": "markdown",
      "source": [
        "###b)Use keras.layers to create an encoding stage that has at least two layers and reduces the size of the data to 50% or less (less is better). You will need to choose activation functions.\n"
      ],
      "metadata": {
        "id": "5WWiq1W2ug2q"
      }
    },
    {
      "cell_type": "code",
      "source": [
        "# encoding layers\n",
        "encoding_layer1 = Dense(256, activation='relu')(input_layer)\n",
        "encoding_layer2 = Dense(128, activation='relu')(encoding_layer1)\n",
        "\n",
        "# model\n",
        "encoding_model = Model(inputs=input_layer, outputs=encoding_layer2)\n",
        "\n",
        "# summary\n",
        "encoding_model.summary()"
      ],
      "metadata": {
        "colab": {
          "base_uri": "https://localhost:8080/"
        },
        "id": "icqLObEf0zf0",
        "outputId": "2277a46d-85d6-43b9-9b38-252c07350d14"
      },
      "execution_count": 16,
      "outputs": [
        {
          "output_type": "stream",
          "name": "stdout",
          "text": [
            "Model: \"model\"\n",
            "_________________________________________________________________\n",
            " Layer (type)                Output Shape              Param #   \n",
            "=================================================================\n",
            " input_1 (InputLayer)        [(None, 784)]             0         \n",
            "                                                                 \n",
            " dense (Dense)               (None, 256)               200960    \n",
            "                                                                 \n",
            " dense_1 (Dense)             (None, 128)               32896     \n",
            "                                                                 \n",
            "=================================================================\n",
            "Total params: 233856 (913.50 KB)\n",
            "Trainable params: 233856 (913.50 KB)\n",
            "Non-trainable params: 0 (0.00 Byte)\n",
            "_________________________________________________________________\n"
          ]
        }
      ]
    },
    {
      "cell_type": "markdown",
      "source": [
        "###c)Use keras.layers to create a decoding stage that has at least two layers and restores the data to its original size. You will need to choose activation functions.\n"
      ],
      "metadata": {
        "id": "Q4VilwAGuhzN"
      }
    },
    {
      "cell_type": "code",
      "source": [
        "# decoding layers\n",
        "decoding_layer1 = Dense(256, activation='relu')(encoding_layer2)\n",
        "decoding_layer2 = Dense(784, activation='sigmoid')(decoding_layer1)\n",
        "\n",
        "# decoding model\n",
        "decoding_model = Model(inputs=input_layer, outputs=decoding_layer2)\n",
        "\n",
        "# summary\n",
        "decoding_model.summary()\n"
      ],
      "metadata": {
        "colab": {
          "base_uri": "https://localhost:8080/"
        },
        "id": "gzM2uzKC1Ds1",
        "outputId": "f13405a8-75e6-41dc-aacb-02a6b5b78580"
      },
      "execution_count": 17,
      "outputs": [
        {
          "output_type": "stream",
          "name": "stdout",
          "text": [
            "Model: \"model_1\"\n",
            "_________________________________________________________________\n",
            " Layer (type)                Output Shape              Param #   \n",
            "=================================================================\n",
            " input_1 (InputLayer)        [(None, 784)]             0         \n",
            "                                                                 \n",
            " dense (Dense)               (None, 256)               200960    \n",
            "                                                                 \n",
            " dense_1 (Dense)             (None, 128)               32896     \n",
            "                                                                 \n",
            " dense_2 (Dense)             (None, 256)               33024     \n",
            "                                                                 \n",
            " dense_3 (Dense)             (None, 784)               201488    \n",
            "                                                                 \n",
            "=================================================================\n",
            "Total params: 468368 (1.79 MB)\n",
            "Trainable params: 468368 (1.79 MB)\n",
            "Non-trainable params: 0 (0.00 Byte)\n",
            "_________________________________________________________________\n"
          ]
        }
      ]
    },
    {
      "cell_type": "markdown",
      "source": [
        "###d)Compile the complete autoencoder network. You will need to choose a loss function and an optimizer. Train the autoencoder using the image data.\n"
      ],
      "metadata": {
        "id": "heiXg-FhujOt"
      }
    },
    {
      "cell_type": "code",
      "source": [
        "# autoencoder model\n",
        "autoencoder = Model(inputs=input_layer, outputs=decoding_layer2)\n",
        "\n",
        "# Compile the autoencoder\n",
        "autoencoder.compile(optimizer=Adam(lr=0.001), loss='mean_squared_error')\n",
        "\n",
        "# Train the autoencoder\n",
        "history = autoencoder.fit(X_train_flattened, X_train_flattened, epochs=5, batch_size=128, validation_data=(X_test_normalized, X_test_normalized))\n"
      ],
      "metadata": {
        "colab": {
          "base_uri": "https://localhost:8080/"
        },
        "id": "MMTzJxCv1N-9",
        "outputId": "2e22f0a1-671a-46b2-bc0a-fbeca63ee0b4"
      },
      "execution_count": 19,
      "outputs": [
        {
          "output_type": "stream",
          "name": "stderr",
          "text": [
            "WARNING:absl:`lr` is deprecated in Keras optimizer, please use `learning_rate` or use the legacy optimizer, e.g.,tf.keras.optimizers.legacy.Adam.\n"
          ]
        },
        {
          "output_type": "stream",
          "name": "stdout",
          "text": [
            "Epoch 1/5\n",
            "469/469 [==============================] - 13s 27ms/step - loss: 0.0386 - val_loss: 0.0076\n",
            "Epoch 2/5\n",
            "469/469 [==============================] - 6s 12ms/step - loss: 0.0162 - val_loss: 0.0030\n",
            "Epoch 3/5\n",
            "469/469 [==============================] - 8s 17ms/step - loss: 0.0100 - val_loss: 0.0013\n",
            "Epoch 4/5\n",
            "469/469 [==============================] - 6s 13ms/step - loss: 0.0079 - val_loss: 8.1233e-04\n",
            "Epoch 5/5\n",
            "469/469 [==============================] - 8s 17ms/step - loss: 0.0065 - val_loss: 5.1904e-04\n"
          ]
        }
      ]
    },
    {
      "cell_type": "code",
      "source": [
        "#  training loss\n",
        "plt.plot(history.history['loss'])\n",
        "plt.xlabel('Epoch')\n",
        "plt.show()\n"
      ],
      "metadata": {
        "colab": {
          "base_uri": "https://localhost:8080/",
          "height": 452
        },
        "id": "fPjTWeS8W3mz",
        "outputId": "852cff06-059f-4201-dc3b-f79c0da2c18e"
      },
      "execution_count": 22,
      "outputs": [
        {
          "output_type": "display_data",
          "data": {
            "text/plain": [
              "<Figure size 640x480 with 1 Axes>"
            ],
            "image/png": "[encoded data removed]"
          },
          "metadata": {}
        }
      ]
    },
    {
      "cell_type": "markdown",
      "source": [
        "This loss curve shows that the autoencoder is learning and we can see progress redutiin the error.\n",
        "More epochs loss still decrease."
      ],
      "metadata": {
        "id": "BmP4rgmS418S"
      }
    },
    {
      "cell_type": "markdown",
      "source": [
        "###e)Compile an encoder network from your trained input layer and encoding stage."
      ],
      "metadata": {
        "id": "NW76oswSukDI"
      }
    },
    {
      "cell_type": "code",
      "source": [
        "# Create an encoder network\n",
        "encoder_network = Model(inputs=input_layer, outputs=encoding_layer2)\n",
        "\n",
        "# Compile the encoder network\n",
        "encoder_network.compile(optimizer='adam', loss='mean_squared_error')\n",
        "\n",
        "# Print the summary of the encoder network\n",
        "encoder_network.summary()"
      ],
      "metadata": {
        "colab": {
          "base_uri": "https://localhost:8080/"
        },
        "id": "keYi4q-6HcbV",
        "outputId": "d8c3edb6-7de9-4eee-bd0c-db26c4dad049"
      },
      "execution_count": 23,
      "outputs": [
        {
          "output_type": "stream",
          "name": "stdout",
          "text": [
            "Model: \"model_3\"\n",
            "_________________________________________________________________\n",
            " Layer (type)                Output Shape              Param #   \n",
            "=================================================================\n",
            " input_1 (InputLayer)        [(None, 784)]             0         \n",
            "                                                                 \n",
            " dense (Dense)               (None, 256)               200960    \n",
            "                                                                 \n",
            " dense_1 (Dense)             (None, 128)               32896     \n",
            "                                                                 \n",
            "=================================================================\n",
            "Total params: 233856 (913.50 KB)\n",
            "Trainable params: 233856 (913.50 KB)\n",
            "Non-trainable params: 0 (0.00 Byte)\n",
            "_________________________________________________________________\n"
          ]
        }
      ]
    },
    {
      "cell_type": "markdown",
      "source": [
        "## 3.Conclusions\n"
      ],
      "metadata": {
        "id": "ys4nQOmAuVWZ"
      }
    },
    {
      "cell_type": "markdown",
      "source": [
        "###a)Use matplotlib.plot.imshow and matplotlib.plot.subplot and your trained models to give a plot of the first five original images along the top row, the encoded versions of those same images along the second row, and the decoded versions along the bottom row. Return to question 2 and adjust the hyperparameters of your model until you are able to produce decoded images that represent the original images, with an encoding that uses as little data as possible; make a record of the adjustments you try in markdown.\n"
      ],
      "metadata": {
        "id": "neft7l35unXN"
      }
    },
    {
      "cell_type": "code",
      "source": [
        "# get irst five images\n",
        "sample_images = X_train_normalized[:5]\n",
        "\n",
        "# Encode\n",
        "encoded_images = encoder_network.predict(sample_images)\n",
        "\n",
        "# decode the encoded images\n",
        "decoded_images = autoencoder.predict(sample_images)"
      ],
      "metadata": {
        "colab": {
          "base_uri": "https://localhost:8080/"
        },
        "id": "C7atRdaUSg5E",
        "outputId": "9f66428a-5d5e-4d81-9a1d-efac3c3c83d2"
      },
      "execution_count": 24,
      "outputs": [
        {
          "output_type": "stream",
          "name": "stdout",
          "text": [
            "1/1 [==============================] - 0s 83ms/step\n",
            "1/1 [==============================] - 0s 74ms/step\n"
          ]
        }
      ]
    },
    {
      "cell_type": "code",
      "source": [
        "# 3 rows\n",
        "plt.figure(figsize=(15, 5))\n",
        "\n",
        "# =original images 1st row\n",
        "for i in range(5):\n",
        "    plt.subplot(3, 5, i + 1)\n",
        "    plt.imshow(sample_images[i].reshape(28, 28), cmap='gray')\n",
        "    plt.axis('off')\n",
        "\n",
        "# encoded images 2nd row\n",
        "for i in range(5):\n",
        "    plt.subplot(3, 5, i + 6)\n",
        "    plt.imshow(encoded_images[i].reshape(8, 16), cmap='gray')\n",
        "    plt.axis('off')\n",
        "\n",
        "# decoded images 3rd row\n",
        "for i in range(5):\n",
        "    plt.subplot(3, 5, i + 11)\n",
        "    plt.imshow(decoded_images[i].reshape(28, 28), cmap='gray')\n",
        "    plt.axis('off')\n",
        "\n",
        "plt.show()"
      ],
      "metadata": {
        "colab": {
          "base_uri": "https://localhost:8080/",
          "height": 371
        },
        "id": "OkXELfPJ4oY9",
        "outputId": "7814b8f7-fefa-42cf-fea9-61b0bd725781"
      },
      "execution_count": 25,
      "outputs": [
        {
          "output_type": "display_data",
          "data": {
            "text/plain": [
              "<Figure size 1500x500 with 15 Axes>"
            ],
            "image/png": "[encoded data removed]"
          },
          "metadata": {}
        }
      ]
    },
    {
      "cell_type": "markdown",
      "source": [
        "###b)Use markdown to describe how well the autoencoder is working, making reference to the plots.\n"
      ],
      "metadata": {
        "id": "wBXvoaZ5usEJ"
      }
    },
    {
      "cell_type": "markdown",
      "source": [
        "The autoencoder goes through 2 steps, encoding the input data and decoding where it must reconstruct the data that was compressed in the input.\n",
        "\n",
        "During plotting, input, encoding and decoding by lines of the graph above, we compared that the first and third lines are very similar, the images were reconstructed very accurately, the images are similar to the original."
      ],
      "metadata": {
        "id": "InAqefQQ5poc"
      }
    },
    {
      "cell_type": "markdown",
      "source": [
        "###c)State the amount of data needed to store a single image, considering that a floating-point number is 4 bytes of data. Calculate how much memory will be saved as a percentage."
      ],
      "metadata": {
        "id": "PbCGAhF1utPv"
      }
    },
    {
      "cell_type": "markdown",
      "source": [
        "```\n",
        "Saving memory => (1 - (Encoded Data Size / Original Data Size)) * 100%\n",
        "```\n",
        "\n",
        "* original image => 28 x 28 x 4 bytes\n",
        "* encoded data size => number neuron encoding layer 128 * neuron (4 bytes)\n",
        "* saving memory = (1 - (128 * 4) / (28 * 28 * 4)) * 100% => 83.67%\n",
        "\n",
        "\n",
        "This shows a huge reduction in memory usage."
      ],
      "metadata": {
        "id": "hYNZYvE_6Oy6"
      }
    }
  ]
}